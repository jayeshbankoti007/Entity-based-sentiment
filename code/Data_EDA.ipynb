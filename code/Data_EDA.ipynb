{
 "cells": [
  {
   "cell_type": "markdown",
   "metadata": {},
   "source": [
    "Lets look at the data"
   ]
  },
  {
   "cell_type": "code",
   "execution_count": 58,
   "metadata": {},
   "outputs": [],
   "source": [
    "# !pip install openpyxl"
   ]
  },
  {
   "cell_type": "code",
   "execution_count": 59,
   "metadata": {},
   "outputs": [],
   "source": [
    "import pandas as pd\n",
    "import config"
   ]
  },
  {
   "cell_type": "code",
   "execution_count": 60,
   "metadata": {},
   "outputs": [],
   "source": [
    "train_df = pd.read_excel(config.TRAIN_FILE_PATH)\n",
    "test_df = pd.read_excel(config.TEST_FILE_PATH)"
   ]
  },
  {
   "cell_type": "code",
   "execution_count": 61,
   "metadata": {},
   "outputs": [
    {
     "name": "stdout",
     "output_type": "stream",
     "text": [
      "Null data: train\n",
      "Sentence     0\n",
      "Entity       0\n",
      "Sentiment    0\n",
      "dtype: int64\n",
      "Null data: test\n",
      "Sentence    0\n",
      "Entity      0\n",
      "dtype: int64\n"
     ]
    }
   ],
   "source": [
    "print(\"Null data: train\")\n",
    "print(train_df.isnull().sum())\n",
    "\n",
    "print(\"Null data: test\")\n",
    "print(test_df.isnull().sum())"
   ]
  },
  {
   "cell_type": "code",
   "execution_count": 62,
   "metadata": {},
   "outputs": [
    {
     "name": "stdout",
     "output_type": "stream",
     "text": [
      "Label Distribution\n",
      "positive    4100\n",
      "negative    1899\n",
      "Name: Sentiment, dtype: int64\n"
     ]
    }
   ],
   "source": [
    "print(\"Label Distribution\")\n",
    "print(train_df.Sentiment.value_counts())"
   ]
  },
  {
   "cell_type": "markdown",
   "metadata": {},
   "source": [
    "Not much skewed distribution"
   ]
  },
  {
   "cell_type": "code",
   "execution_count": 63,
   "metadata": {},
   "outputs": [
    {
     "name": "stdout",
     "output_type": "stream",
     "text": [
      "count    5999.000000\n",
      "mean      107.550925\n",
      "std        64.307248\n",
      "min        12.000000\n",
      "25%        64.000000\n",
      "50%        93.000000\n",
      "75%       132.000000\n",
      "max       769.000000\n",
      "Name: Sentence, dtype: float64\n",
      "count    5999.000000\n",
      "mean        7.463577\n",
      "std         3.300444\n",
      "min         2.000000\n",
      "25%         5.000000\n",
      "50%         7.000000\n",
      "75%         8.000000\n",
      "max        31.000000\n",
      "Name: Entity, dtype: float64\n"
     ]
    }
   ],
   "source": [
    "print(train_df['Sentence'].str.len().describe())\n",
    "print(train_df['Entity'].str.len().describe())"
   ]
  },
  {
   "cell_type": "code",
   "execution_count": 64,
   "metadata": {},
   "outputs": [
    {
     "name": "stdout",
     "output_type": "stream",
     "text": [
      "count    1290.000000\n",
      "mean       93.162791\n",
      "std        62.909689\n",
      "min         6.000000\n",
      "25%        50.000000\n",
      "50%        79.000000\n",
      "75%       120.000000\n",
      "max       583.000000\n",
      "Name: Sentence, dtype: float64\n",
      "count    1290.000000\n",
      "mean        7.648062\n",
      "std         3.248944\n",
      "min         2.000000\n",
      "25%         5.000000\n",
      "50%         7.000000\n",
      "75%         9.000000\n",
      "max        27.000000\n",
      "Name: Entity, dtype: float64\n"
     ]
    }
   ],
   "source": [
    "print(test_df['Sentence'].str.len().describe())\n",
    "print(test_df['Entity'].str.len().describe())"
   ]
  },
  {
   "cell_type": "code",
   "execution_count": 65,
   "metadata": {},
   "outputs": [
    {
     "name": "stdout",
     "output_type": "stream",
     "text": [
      "count    5999.000000\n",
      "mean       19.371729\n",
      "std        12.355986\n",
      "min         2.000000\n",
      "25%        11.000000\n",
      "50%        17.000000\n",
      "75%        24.000000\n",
      "max       143.000000\n",
      "Name: Sentence, dtype: float64\n",
      "count    5999.000000\n",
      "mean        1.128188\n",
      "std         0.356529\n",
      "min         1.000000\n",
      "25%         1.000000\n",
      "50%         1.000000\n",
      "75%         1.000000\n",
      "max         3.000000\n",
      "Name: Entity, dtype: float64\n"
     ]
    }
   ],
   "source": [
    "print(train_df['Sentence'].str.split().str.len().describe())\n",
    "print(train_df['Entity'].str.split().str.len().describe())"
   ]
  },
  {
   "cell_type": "code",
   "execution_count": 66,
   "metadata": {},
   "outputs": [
    {
     "name": "stdout",
     "output_type": "stream",
     "text": [
      "count    1290.000000\n",
      "mean       16.931008\n",
      "std        11.770987\n",
      "min         1.000000\n",
      "25%         9.000000\n",
      "50%        14.000000\n",
      "75%        22.000000\n",
      "max       107.000000\n",
      "Name: Sentence, dtype: float64\n",
      "count    1290.000000\n",
      "mean        1.152713\n",
      "std         0.380799\n",
      "min         1.000000\n",
      "25%         1.000000\n",
      "50%         1.000000\n",
      "75%         1.000000\n",
      "max         3.000000\n",
      "Name: Entity, dtype: float64\n"
     ]
    }
   ],
   "source": [
    "print(test_df['Sentence'].str.split().str.len().describe())\n",
    "print(test_df['Entity'].str.split().str.len().describe())"
   ]
  },
  {
   "cell_type": "code",
   "execution_count": 67,
   "metadata": {},
   "outputs": [
    {
     "data": {
      "text/plain": [
       "1    5747\n",
       "2     230\n",
       "3      14\n",
       "0       8\n",
       "Name: entity_counters, dtype: int64"
      ]
     },
     "execution_count": 67,
     "metadata": {},
     "output_type": "execute_result"
    }
   ],
   "source": [
    "train_df['entity_counters'] = train_df.apply(lambda x: x['Sentence'].count(f\"{x['Entity']}\"), axis = 1)\n",
    "train_df['entity_counters'].value_counts()"
   ]
  },
  {
   "cell_type": "code",
   "execution_count": 68,
   "metadata": {},
   "outputs": [
    {
     "data": {
      "text/plain": [
       "1    1207\n",
       "0      53\n",
       "2      29\n",
       "3       1\n",
       "Name: entity_counters, dtype: int64"
      ]
     },
     "execution_count": 68,
     "metadata": {},
     "output_type": "execute_result"
    }
   ],
   "source": [
    "test_df['entity_counters'] = test_df.apply(lambda x: x['Sentence'].count(f\"{x['Entity']}\"), axis = 1)\n",
    "test_df['entity_counters'].value_counts()"
   ]
  },
  {
   "cell_type": "markdown",
   "metadata": {},
   "source": [
    "Just small preprocessing will solve this issue. Reducing all to lower will reduce the knowledge we gain from casing of sentences"
   ]
  },
  {
   "cell_type": "code",
   "execution_count": 69,
   "metadata": {},
   "outputs": [],
   "source": [
    "train_df.iloc[[668], [1]] = 'Companies'\n",
    "train_df.iloc[[2346], [1]] = 'Customer Services'\n",
    "train_df.iloc[[2028], [1]] = 'customer services'\n",
    "train_df.iloc[[3206], [1]] = 'Advisor'\n",
    "train_df.iloc[[4555], [1]] = 'Transaction'\n",
    "train_df.iloc[[3315], [1]] = 'Website'\n",
    "train_df.iloc[[1527], [1]] = 'pet-hate'\n",
    "train_df.iloc[[2826], [1]] = 'AXA Insurance'"
   ]
  },
  {
   "cell_type": "code",
   "execution_count": 70,
   "metadata": {},
   "outputs": [
    {
     "data": {
      "text/plain": [
       "1    5755\n",
       "2     230\n",
       "3      14\n",
       "Name: entity_counters, dtype: int64"
      ]
     },
     "execution_count": 70,
     "metadata": {},
     "output_type": "execute_result"
    }
   ],
   "source": [
    "train_df['entity_counters'] = train_df.apply(lambda x: x['Sentence'].count(f\"{x['Entity']}\"), axis = 1)\n",
    "train_df['entity_counters'].value_counts()"
   ]
  },
  {
   "cell_type": "code",
   "execution_count": 71,
   "metadata": {},
   "outputs": [],
   "source": [
    "train_df = train_df[train_df['entity_counters'] != 0]\n",
    "test_df = test_df[test_df['entity_counters'] != 0]"
   ]
  },
  {
   "cell_type": "code",
   "execution_count": 72,
   "metadata": {},
   "outputs": [
    {
     "data": {
      "text/plain": [
       "1    5755\n",
       "2     230\n",
       "3      14\n",
       "Name: entity_counters, dtype: int64"
      ]
     },
     "execution_count": 72,
     "metadata": {},
     "output_type": "execute_result"
    }
   ],
   "source": [
    "train_df['entity_counters'] = train_df.apply(lambda x: x['Sentence'].count(f\"{x['Entity']}\"), axis = 1)\n",
    "train_df['entity_counters'].value_counts()"
   ]
  },
  {
   "cell_type": "code",
   "execution_count": 73,
   "metadata": {},
   "outputs": [
    {
     "data": {
      "application/vnd.jupyter.widget-view+json": {
       "model_id": "82edc17b3d714bfcbcff91b0bbc18e28",
       "version_major": 2,
       "version_minor": 0
      },
      "text/plain": [
       "  0%|          | 0/5999 [00:00<?, ?it/s]"
      ]
     },
     "metadata": {},
     "output_type": "display_data"
    },
    {
     "data": {
      "text/plain": [
       "1    5745\n",
       "2     195\n",
       "0      48\n",
       "3      11\n",
       "Name: entity_counters, dtype: int64"
      ]
     },
     "execution_count": 73,
     "metadata": {},
     "output_type": "execute_result"
    }
   ],
   "source": [
    "import re\n",
    "from tqdm.notebook import tqdm\n",
    "\n",
    "tqdm.pandas()\n",
    "train_df['entity_counters'] = train_df.progress_apply(lambda x: len(re.findall(r\"\\b\" + re.escape(x['Entity']) + r\"\\b\", x['Sentence'])), axis = 1)\n",
    "train_df['entity_counters'].value_counts()"
   ]
  },
  {
   "cell_type": "code",
   "execution_count": 74,
   "metadata": {},
   "outputs": [
    {
     "data": {
      "text/html": [
       "<div>\n",
       "<style scoped>\n",
       "    .dataframe tbody tr th:only-of-type {\n",
       "        vertical-align: middle;\n",
       "    }\n",
       "\n",
       "    .dataframe tbody tr th {\n",
       "        vertical-align: top;\n",
       "    }\n",
       "\n",
       "    .dataframe thead th {\n",
       "        text-align: right;\n",
       "    }\n",
       "</style>\n",
       "<table border=\"1\" class=\"dataframe\">\n",
       "  <thead>\n",
       "    <tr style=\"text-align: right;\">\n",
       "      <th></th>\n",
       "      <th>Sentence</th>\n",
       "      <th>Entity</th>\n",
       "      <th>Sentiment</th>\n",
       "      <th>entity_counters</th>\n",
       "    </tr>\n",
       "  </thead>\n",
       "  <tbody>\n",
       "    <tr>\n",
       "      <th>133</th>\n",
       "      <td>I did make a telephone contact and the person ...</td>\n",
       "      <td>phone contact</td>\n",
       "      <td>positive</td>\n",
       "      <td>0</td>\n",
       "    </tr>\n",
       "    <tr>\n",
       "      <th>161</th>\n",
       "      <td>I found the form much simpler to fill in than ...</td>\n",
       "      <td>web site</td>\n",
       "      <td>positive</td>\n",
       "      <td>0</td>\n",
       "    </tr>\n",
       "    <tr>\n",
       "      <th>265</th>\n",
       "      <td>The call handler was very helpful and explaine...</td>\n",
       "      <td>phone manner</td>\n",
       "      <td>positive</td>\n",
       "      <td>0</td>\n",
       "    </tr>\n",
       "    <tr>\n",
       "      <th>283</th>\n",
       "      <td>Car insurance purchased online website was eas...</td>\n",
       "      <td>insurance purchase</td>\n",
       "      <td>positive</td>\n",
       "      <td>0</td>\n",
       "    </tr>\n",
       "    <tr>\n",
       "      <th>307</th>\n",
       "      <td>quickvalue for moneybest on car insuranceeasy ...</td>\n",
       "      <td>car insurance</td>\n",
       "      <td>positive</td>\n",
       "      <td>0</td>\n",
       "    </tr>\n",
       "    <tr>\n",
       "      <th>421</th>\n",
       "      <td>telephone staff helpful but gave incorrect adv...</td>\n",
       "      <td>phone staff</td>\n",
       "      <td>positive</td>\n",
       "      <td>0</td>\n",
       "    </tr>\n",
       "    <tr>\n",
       "      <th>632</th>\n",
       "      <td>As a fall-back no telephone number is given so...</td>\n",
       "      <td>phone number</td>\n",
       "      <td>negative</td>\n",
       "      <td>0</td>\n",
       "    </tr>\n",
       "    <tr>\n",
       "      <th>955</th>\n",
       "      <td>Set out in simple terms what insurance covers ...</td>\n",
       "      <td>insurance cover</td>\n",
       "      <td>positive</td>\n",
       "      <td>0</td>\n",
       "    </tr>\n",
       "    <tr>\n",
       "      <th>1047</th>\n",
       "      <td>Anthony I believe was the name of the sales re...</td>\n",
       "      <td>sales rep</td>\n",
       "      <td>positive</td>\n",
       "      <td>0</td>\n",
       "    </tr>\n",
       "    <tr>\n",
       "      <th>1521</th>\n",
       "      <td>The email address is a complete waste of time ...</td>\n",
       "      <td>mail address</td>\n",
       "      <td>negative</td>\n",
       "      <td>0</td>\n",
       "    </tr>\n",
       "    <tr>\n",
       "      <th>1621</th>\n",
       "      <td>This website was very easy to use compared to ...</td>\n",
       "      <td>insurance site</td>\n",
       "      <td>positive</td>\n",
       "      <td>0</td>\n",
       "    </tr>\n",
       "    <tr>\n",
       "      <th>1636</th>\n",
       "      <td>Efficient and customer service representatives...</td>\n",
       "      <td>service rep</td>\n",
       "      <td>positive</td>\n",
       "      <td>0</td>\n",
       "    </tr>\n",
       "    <tr>\n",
       "      <th>1696</th>\n",
       "      <td>Too early to judge the policy and aftercare bu...</td>\n",
       "      <td>sales service</td>\n",
       "      <td>positive</td>\n",
       "      <td>0</td>\n",
       "    </tr>\n",
       "    <tr>\n",
       "      <th>1827</th>\n",
       "      <td>You should issue a insurance debit/credit card...</td>\n",
       "      <td>phone number</td>\n",
       "      <td>positive</td>\n",
       "      <td>0</td>\n",
       "    </tr>\n",
       "    <tr>\n",
       "      <th>1981</th>\n",
       "      <td>I rang twice and the first time the telephone ...</td>\n",
       "      <td>phone operator</td>\n",
       "      <td>negative</td>\n",
       "      <td>0</td>\n",
       "    </tr>\n",
       "    <tr>\n",
       "      <th>1984</th>\n",
       "      <td>I found the whole process straight forward wit...</td>\n",
       "      <td>tick box</td>\n",
       "      <td>positive</td>\n",
       "      <td>0</td>\n",
       "    </tr>\n",
       "    <tr>\n",
       "      <th>1985</th>\n",
       "      <td>Have used AXA in the past thought I would retu...</td>\n",
       "      <td>insurance quote</td>\n",
       "      <td>negative</td>\n",
       "      <td>0</td>\n",
       "    </tr>\n",
       "    <tr>\n",
       "      <th>2320</th>\n",
       "      <td>The site was easy to use self explanatory if y...</td>\n",
       "      <td>web site</td>\n",
       "      <td>positive</td>\n",
       "      <td>0</td>\n",
       "    </tr>\n",
       "    <tr>\n",
       "      <th>2462</th>\n",
       "      <td>quick and efficient service- easy to use websi...</td>\n",
       "      <td>service-</td>\n",
       "      <td>positive</td>\n",
       "      <td>0</td>\n",
       "    </tr>\n",
       "    <tr>\n",
       "      <th>2595</th>\n",
       "      <td>Very helpful customer services employee took m...</td>\n",
       "      <td>customer service</td>\n",
       "      <td>positive</td>\n",
       "      <td>0</td>\n",
       "    </tr>\n",
       "    <tr>\n",
       "      <th>2659</th>\n",
       "      <td>great cover gave extra discount as we are exis...</td>\n",
       "      <td>axa customer</td>\n",
       "      <td>positive</td>\n",
       "      <td>0</td>\n",
       "    </tr>\n",
       "    <tr>\n",
       "      <th>2750</th>\n",
       "      <td>One of the better designed quote systems I've ...</td>\n",
       "      <td>quote system</td>\n",
       "      <td>positive</td>\n",
       "      <td>0</td>\n",
       "    </tr>\n",
       "    <tr>\n",
       "      <th>2862</th>\n",
       "      <td>having been filling in these insurance forms  ...</td>\n",
       "      <td>insurance form</td>\n",
       "      <td>positive</td>\n",
       "      <td>0</td>\n",
       "    </tr>\n",
       "    <tr>\n",
       "      <th>2918</th>\n",
       "      <td>Once I could get through on the telephone (hel...</td>\n",
       "      <td>customer service</td>\n",
       "      <td>positive</td>\n",
       "      <td>0</td>\n",
       "    </tr>\n",
       "    <tr>\n",
       "      <th>3079</th>\n",
       "      <td>I found your telephone operators kind and poli...</td>\n",
       "      <td>telephone operator</td>\n",
       "      <td>positive</td>\n",
       "      <td>0</td>\n",
       "    </tr>\n",
       "    <tr>\n",
       "      <th>3189</th>\n",
       "      <td>spoke to a very knowledgeable and polite young...</td>\n",
       "      <td>insurance policy</td>\n",
       "      <td>positive</td>\n",
       "      <td>0</td>\n",
       "    </tr>\n",
       "    <tr>\n",
       "      <th>3345</th>\n",
       "      <td>A long laborious telephone conversation with a...</td>\n",
       "      <td>phone conversation</td>\n",
       "      <td>negative</td>\n",
       "      <td>0</td>\n",
       "    </tr>\n",
       "    <tr>\n",
       "      <th>3513</th>\n",
       "      <td>Was okay but why I had to receive 15 emails an...</td>\n",
       "      <td>text message</td>\n",
       "      <td>negative</td>\n",
       "      <td>0</td>\n",
       "    </tr>\n",
       "    <tr>\n",
       "      <th>3683</th>\n",
       "      <td>Great price and great customer services...</td>\n",
       "      <td>customer service</td>\n",
       "      <td>positive</td>\n",
       "      <td>0</td>\n",
       "    </tr>\n",
       "    <tr>\n",
       "      <th>3696</th>\n",
       "      <td>Fantastic help and services which offer great ...</td>\n",
       "      <td>help and service</td>\n",
       "      <td>positive</td>\n",
       "      <td>0</td>\n",
       "    </tr>\n",
       "    <tr>\n",
       "      <th>3885</th>\n",
       "      <td>Telephone staff very helpful with a knotty pro...</td>\n",
       "      <td>phone staff</td>\n",
       "      <td>positive</td>\n",
       "      <td>0</td>\n",
       "    </tr>\n",
       "    <tr>\n",
       "      <th>3903</th>\n",
       "      <td>We decided to telephone ax a and request the d...</td>\n",
       "      <td>phone number</td>\n",
       "      <td>negative</td>\n",
       "      <td>0</td>\n",
       "    </tr>\n",
       "    <tr>\n",
       "      <th>3962</th>\n",
       "      <td>Excellent telephone manners brilliant handling...</td>\n",
       "      <td>telephone manner</td>\n",
       "      <td>positive</td>\n",
       "      <td>0</td>\n",
       "    </tr>\n",
       "    <tr>\n",
       "      <th>3984</th>\n",
       "      <td>I had to contact them by landline to complete ...</td>\n",
       "      <td>customer service</td>\n",
       "      <td>positive</td>\n",
       "      <td>0</td>\n",
       "    </tr>\n",
       "    <tr>\n",
       "      <th>4095</th>\n",
       "      <td>Prompt and friendly phone call from Kris Clark...</td>\n",
       "      <td>line application</td>\n",
       "      <td>positive</td>\n",
       "      <td>0</td>\n",
       "    </tr>\n",
       "    <tr>\n",
       "      <th>4123</th>\n",
       "      <td>best price by far with all the car insurers I ...</td>\n",
       "      <td>car insurer</td>\n",
       "      <td>positive</td>\n",
       "      <td>0</td>\n",
       "    </tr>\n",
       "    <tr>\n",
       "      <th>4465</th>\n",
       "      <td>Good price for car insuranceweb site easy to u...</td>\n",
       "      <td>web site</td>\n",
       "      <td>positive</td>\n",
       "      <td>0</td>\n",
       "    </tr>\n",
       "    <tr>\n",
       "      <th>4676</th>\n",
       "      <td>had difficulty completing my purchase could ha...</td>\n",
       "      <td>problem\\</td>\n",
       "      <td>negative</td>\n",
       "      <td>0</td>\n",
       "    </tr>\n",
       "    <tr>\n",
       "      <th>4683</th>\n",
       "      <td>Fantastic team running customer services .</td>\n",
       "      <td>customer service</td>\n",
       "      <td>positive</td>\n",
       "      <td>0</td>\n",
       "    </tr>\n",
       "    <tr>\n",
       "      <th>4792</th>\n",
       "      <td>The online service worked well and the two sta...</td>\n",
       "      <td>staff member</td>\n",
       "      <td>positive</td>\n",
       "      <td>0</td>\n",
       "    </tr>\n",
       "    <tr>\n",
       "      <th>4979</th>\n",
       "      <td>I rang twice and the first time the telephone ...</td>\n",
       "      <td>phone operator</td>\n",
       "      <td>negative</td>\n",
       "      <td>0</td>\n",
       "    </tr>\n",
       "    <tr>\n",
       "      <th>5025</th>\n",
       "      <td>AXA need to advise prospective policy holders ...</td>\n",
       "      <td>policy holder</td>\n",
       "      <td>negative</td>\n",
       "      <td>0</td>\n",
       "    </tr>\n",
       "    <tr>\n",
       "      <th>5249</th>\n",
       "      <td>I will ensure that myself family &amp; friends nev...</td>\n",
       "      <td>axa service</td>\n",
       "      <td>negative</td>\n",
       "      <td>0</td>\n",
       "    </tr>\n",
       "    <tr>\n",
       "      <th>5288</th>\n",
       "      <td>Just a shame about the chargeable 0844 contact...</td>\n",
       "      <td>telephone number</td>\n",
       "      <td>negative</td>\n",
       "      <td>0</td>\n",
       "    </tr>\n",
       "    <tr>\n",
       "      <th>5426</th>\n",
       "      <td>This year I decided to go via the comparison w...</td>\n",
       "      <td>comparison website</td>\n",
       "      <td>positive</td>\n",
       "      <td>0</td>\n",
       "    </tr>\n",
       "    <tr>\n",
       "      <th>5660</th>\n",
       "      <td>No probs with online service and good price.</td>\n",
       "      <td>line service</td>\n",
       "      <td>positive</td>\n",
       "      <td>0</td>\n",
       "    </tr>\n",
       "    <tr>\n",
       "      <th>5868</th>\n",
       "      <td>Very helpful customer services didn't wait age...</td>\n",
       "      <td>customer service</td>\n",
       "      <td>positive</td>\n",
       "      <td>0</td>\n",
       "    </tr>\n",
       "    <tr>\n",
       "      <th>5892</th>\n",
       "      <td>To then be offered Â£300 less Â£100 excessWoul...</td>\n",
       "      <td>claim process</td>\n",
       "      <td>negative</td>\n",
       "      <td>0</td>\n",
       "    </tr>\n",
       "  </tbody>\n",
       "</table>\n",
       "</div>"
      ],
      "text/plain": [
       "                                               Sentence              Entity  \\\n",
       "133   I did make a telephone contact and the person ...       phone contact   \n",
       "161   I found the form much simpler to fill in than ...            web site   \n",
       "265   The call handler was very helpful and explaine...        phone manner   \n",
       "283   Car insurance purchased online website was eas...  insurance purchase   \n",
       "307   quickvalue for moneybest on car insuranceeasy ...       car insurance   \n",
       "421   telephone staff helpful but gave incorrect adv...         phone staff   \n",
       "632   As a fall-back no telephone number is given so...        phone number   \n",
       "955   Set out in simple terms what insurance covers ...     insurance cover   \n",
       "1047  Anthony I believe was the name of the sales re...           sales rep   \n",
       "1521  The email address is a complete waste of time ...        mail address   \n",
       "1621  This website was very easy to use compared to ...      insurance site   \n",
       "1636  Efficient and customer service representatives...         service rep   \n",
       "1696  Too early to judge the policy and aftercare bu...       sales service   \n",
       "1827  You should issue a insurance debit/credit card...        phone number   \n",
       "1981  I rang twice and the first time the telephone ...      phone operator   \n",
       "1984  I found the whole process straight forward wit...            tick box   \n",
       "1985  Have used AXA in the past thought I would retu...     insurance quote   \n",
       "2320  The site was easy to use self explanatory if y...            web site   \n",
       "2462  quick and efficient service- easy to use websi...            service-   \n",
       "2595  Very helpful customer services employee took m...    customer service   \n",
       "2659  great cover gave extra discount as we are exis...        axa customer   \n",
       "2750  One of the better designed quote systems I've ...        quote system   \n",
       "2862  having been filling in these insurance forms  ...      insurance form   \n",
       "2918  Once I could get through on the telephone (hel...    customer service   \n",
       "3079  I found your telephone operators kind and poli...  telephone operator   \n",
       "3189  spoke to a very knowledgeable and polite young...    insurance policy   \n",
       "3345  A long laborious telephone conversation with a...  phone conversation   \n",
       "3513  Was okay but why I had to receive 15 emails an...        text message   \n",
       "3683         Great price and great customer services...    customer service   \n",
       "3696  Fantastic help and services which offer great ...    help and service   \n",
       "3885  Telephone staff very helpful with a knotty pro...         phone staff   \n",
       "3903  We decided to telephone ax a and request the d...        phone number   \n",
       "3962  Excellent telephone manners brilliant handling...    telephone manner   \n",
       "3984  I had to contact them by landline to complete ...    customer service   \n",
       "4095  Prompt and friendly phone call from Kris Clark...    line application   \n",
       "4123  best price by far with all the car insurers I ...         car insurer   \n",
       "4465  Good price for car insuranceweb site easy to u...            web site   \n",
       "4676  had difficulty completing my purchase could ha...            problem\\   \n",
       "4683         Fantastic team running customer services .    customer service   \n",
       "4792  The online service worked well and the two sta...        staff member   \n",
       "4979  I rang twice and the first time the telephone ...      phone operator   \n",
       "5025  AXA need to advise prospective policy holders ...       policy holder   \n",
       "5249  I will ensure that myself family & friends nev...         axa service   \n",
       "5288  Just a shame about the chargeable 0844 contact...    telephone number   \n",
       "5426  This year I decided to go via the comparison w...  comparison website   \n",
       "5660       No probs with online service and good price.        line service   \n",
       "5868  Very helpful customer services didn't wait age...    customer service   \n",
       "5892  To then be offered Â£300 less Â£100 excessWoul...       claim process   \n",
       "\n",
       "     Sentiment  entity_counters  \n",
       "133   positive                0  \n",
       "161   positive                0  \n",
       "265   positive                0  \n",
       "283   positive                0  \n",
       "307   positive                0  \n",
       "421   positive                0  \n",
       "632   negative                0  \n",
       "955   positive                0  \n",
       "1047  positive                0  \n",
       "1521  negative                0  \n",
       "1621  positive                0  \n",
       "1636  positive                0  \n",
       "1696  positive                0  \n",
       "1827  positive                0  \n",
       "1981  negative                0  \n",
       "1984  positive                0  \n",
       "1985  negative                0  \n",
       "2320  positive                0  \n",
       "2462  positive                0  \n",
       "2595  positive                0  \n",
       "2659  positive                0  \n",
       "2750  positive                0  \n",
       "2862  positive                0  \n",
       "2918  positive                0  \n",
       "3079  positive                0  \n",
       "3189  positive                0  \n",
       "3345  negative                0  \n",
       "3513  negative                0  \n",
       "3683  positive                0  \n",
       "3696  positive                0  \n",
       "3885  positive                0  \n",
       "3903  negative                0  \n",
       "3962  positive                0  \n",
       "3984  positive                0  \n",
       "4095  positive                0  \n",
       "4123  positive                0  \n",
       "4465  positive                0  \n",
       "4676  negative                0  \n",
       "4683  positive                0  \n",
       "4792  positive                0  \n",
       "4979  negative                0  \n",
       "5025  negative                0  \n",
       "5249  negative                0  \n",
       "5288  negative                0  \n",
       "5426  positive                0  \n",
       "5660  positive                0  \n",
       "5868  positive                0  \n",
       "5892  negative                0  "
      ]
     },
     "execution_count": 74,
     "metadata": {},
     "output_type": "execute_result"
    }
   ],
   "source": [
    "train_df[train_df['entity_counters'] == 0]"
   ]
  },
  {
   "cell_type": "code",
   "execution_count": 75,
   "metadata": {},
   "outputs": [
    {
     "data": {
      "application/vnd.jupyter.widget-view+json": {
       "model_id": "98461158ca9a46d8aa04d85a4178e6b0",
       "version_major": 2,
       "version_minor": 0
      },
      "text/plain": [
       "  0%|          | 0/1237 [00:00<?, ?it/s]"
      ]
     },
     "metadata": {},
     "output_type": "display_data"
    },
    {
     "data": {
      "text/plain": [
       "1    1189\n",
       "2      25\n",
       "0      23\n",
       "Name: entity_counters, dtype: int64"
      ]
     },
     "execution_count": 75,
     "metadata": {},
     "output_type": "execute_result"
    }
   ],
   "source": [
    "tqdm.pandas()\n",
    "test_df['entity_counters'] = test_df.progress_apply(lambda x: len(re.findall(r\"\\b\" + re.escape(x['Entity']) + r\"\\b\", x['Sentence'])), axis = 1)\n",
    "test_df['entity_counters'].value_counts()"
   ]
  },
  {
   "cell_type": "markdown",
   "metadata": {},
   "source": [
    "Still some issues remaining. Will have to manually clean them."
   ]
  },
  {
   "cell_type": "code",
   "execution_count": 76,
   "metadata": {},
   "outputs": [],
   "source": [
    "train_df = train_df[train_df['entity_counters'] != 0]\n",
    "test_df = test_df[test_df['entity_counters'] != 0]"
   ]
  },
  {
   "cell_type": "code",
   "execution_count": null,
   "metadata": {},
   "outputs": [],
   "source": [
    "train_df.to_csv(config.PROCESSED_TRAIN_FILE_PATH)\n",
    "test_df.to_csv(config.PROCESSED_TEST_FILE_PATH)"
   ]
  }
 ],
 "metadata": {
  "interpreter": {
   "hash": "5f3a9e307020fff06c9d718ee1c49caa3fe3c690079ecb1ba52008f1a0a4e25d"
  },
  "kernelspec": {
   "display_name": "Python 3.8.10 64-bit ('venv': venv)",
   "name": "python3"
  },
  "language_info": {
   "codemirror_mode": {
    "name": "ipython",
    "version": 3
   },
   "file_extension": ".py",
   "mimetype": "text/x-python",
   "name": "python",
   "nbconvert_exporter": "python",
   "pygments_lexer": "ipython3",
   "version": "3.8.10"
  },
  "orig_nbformat": 4
 },
 "nbformat": 4,
 "nbformat_minor": 2
}
