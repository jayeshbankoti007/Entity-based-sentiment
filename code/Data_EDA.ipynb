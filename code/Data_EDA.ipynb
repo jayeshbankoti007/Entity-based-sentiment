{
 "cells": [
  {
   "cell_type": "markdown",
   "metadata": {},
   "source": [
    "Lets look at the data"
   ]
  },
  {
   "cell_type": "code",
   "execution_count": null,
   "metadata": {},
   "outputs": [],
   "source": [
    "# !pip install openpyxl"
   ]
  },
  {
   "cell_type": "code",
   "execution_count": null,
   "metadata": {},
   "outputs": [],
   "source": [
    "import pandas as pd\n",
    "import config"
   ]
  },
  {
   "cell_type": "code",
   "execution_count": null,
   "metadata": {},
   "outputs": [],
   "source": [
    "train_df = pd.read_excel(config.TRAIN_FILE_PATH)\n",
    "test_df = pd.read_excel(config.TEST_FILE_PATH)"
   ]
  },
  {
   "cell_type": "code",
   "execution_count": null,
   "metadata": {},
   "outputs": [],
   "source": [
    "print(\"Null data: train\")\n",
    "print(train_df.isnull().sum())\n",
    "\n",
    "print(\"Null data: test\")\n",
    "print(test_df.isnull().sum())"
   ]
  },
  {
   "cell_type": "code",
   "execution_count": 30,
   "metadata": {},
   "outputs": [
    {
     "name": "stdout",
     "output_type": "stream",
     "text": [
      "count    5943.00000\n",
      "mean      107.33754\n",
      "std        64.20659\n",
      "min        12.00000\n",
      "25%        64.00000\n",
      "50%        93.00000\n",
      "75%       132.00000\n",
      "max       769.00000\n",
      "Name: Sentence, dtype: float64\n",
      "count    5943.000000\n",
      "mean        7.412418\n",
      "std         3.259509\n",
      "min         2.000000\n",
      "25%         5.000000\n",
      "50%         7.000000\n",
      "75%         8.000000\n",
      "max        31.000000\n",
      "Name: Entity, dtype: float64\n"
     ]
    }
   ],
   "source": [
    "print(train_df['Sentence'].str.len().describe())\n",
    "print(train_df['Entity'].str.len().describe())"
   ]
  },
  {
   "cell_type": "code",
   "execution_count": 31,
   "metadata": {},
   "outputs": [
    {
     "name": "stdout",
     "output_type": "stream",
     "text": [
      "count    1214.000000\n",
      "mean       94.734761\n",
      "std        63.549090\n",
      "min         6.000000\n",
      "25%        52.000000\n",
      "50%        81.000000\n",
      "75%       121.000000\n",
      "max       583.000000\n",
      "Name: Sentence, dtype: float64\n",
      "count    1214.000000\n",
      "mean        7.639209\n",
      "std         3.218861\n",
      "min         3.000000\n",
      "25%         5.000000\n",
      "50%         7.000000\n",
      "75%         9.000000\n",
      "max        27.000000\n",
      "Name: Entity, dtype: float64\n"
     ]
    }
   ],
   "source": [
    "print(test_df['Sentence'].str.len().describe())\n",
    "print(test_df['Entity'].str.len().describe())"
   ]
  },
  {
   "cell_type": "code",
   "execution_count": 32,
   "metadata": {},
   "outputs": [
    {
     "name": "stdout",
     "output_type": "stream",
     "text": [
      "count    5943.000000\n",
      "mean       19.336867\n",
      "std        12.342277\n",
      "min         2.000000\n",
      "25%        11.000000\n",
      "50%        17.000000\n",
      "75%        24.000000\n",
      "max       143.000000\n",
      "Name: Sentence, dtype: float64\n",
      "count    5943.000000\n",
      "mean        1.120646\n",
      "std         0.347733\n",
      "min         1.000000\n",
      "25%         1.000000\n",
      "50%         1.000000\n",
      "75%         1.000000\n",
      "max         3.000000\n",
      "Name: Entity, dtype: float64\n"
     ]
    }
   ],
   "source": [
    "print(train_df['Sentence'].str.split().str.len().describe())\n",
    "print(train_df['Entity'].str.split().str.len().describe())"
   ]
  },
  {
   "cell_type": "code",
   "execution_count": 33,
   "metadata": {},
   "outputs": [
    {
     "name": "stdout",
     "output_type": "stream",
     "text": [
      "count    1214.000000\n",
      "mean       17.191928\n",
      "std        11.920604\n",
      "min         1.000000\n",
      "25%         9.000000\n",
      "50%        15.000000\n",
      "75%        22.000000\n",
      "max       107.000000\n",
      "Name: Sentence, dtype: float64\n",
      "count    1214.000000\n",
      "mean        1.149918\n",
      "std         0.377342\n",
      "min         1.000000\n",
      "25%         1.000000\n",
      "50%         1.000000\n",
      "75%         1.000000\n",
      "max         3.000000\n",
      "Name: Entity, dtype: float64\n"
     ]
    }
   ],
   "source": [
    "print(test_df['Sentence'].str.split().str.len().describe())\n",
    "print(test_df['Entity'].str.split().str.len().describe())"
   ]
  },
  {
   "cell_type": "code",
   "execution_count": null,
   "metadata": {},
   "outputs": [],
   "source": [
    "train_df['entity_counters'] = train_df.apply(lambda x: x['Sentence'].count(f\"{x['Entity']}\"), axis = 1)\n",
    "train_df['entity_counters'].value_counts()"
   ]
  },
  {
   "cell_type": "code",
   "execution_count": null,
   "metadata": {},
   "outputs": [],
   "source": [
    "test_df['entity_counters'] = test_df.apply(lambda x: x['Sentence'].count(f\"{x['Entity']}\"), axis = 1)\n",
    "test_df['entity_counters'].value_counts()"
   ]
  },
  {
   "cell_type": "markdown",
   "metadata": {},
   "source": [
    "Just small preprocessing will solve this issue. Reducing all to lower will reduce the knowledge we gain from casing of sentences"
   ]
  },
  {
   "cell_type": "code",
   "execution_count": null,
   "metadata": {},
   "outputs": [],
   "source": [
    "train_df.iloc[[668], [1]] = 'Companies'\n",
    "train_df.iloc[[2346], [1]] = 'Customer Services'\n",
    "train_df.iloc[[2028], [1]] = 'customer services'\n",
    "train_df.iloc[[3206], [1]] = 'Advisor'\n",
    "train_df.iloc[[4555], [1]] = 'Transaction'\n",
    "train_df.iloc[[3315], [1]] = 'Website'\n",
    "train_df.iloc[[1527], [1]] = 'pet-hate'\n",
    "train_df.iloc[[2826], [1]] = 'AXA Insurance'"
   ]
  },
  {
   "cell_type": "code",
   "execution_count": null,
   "metadata": {},
   "outputs": [],
   "source": [
    "train_df['entity_counters'] = train_df.apply(lambda x: x['Sentence'].count(f\"{x['Entity']}\"), axis = 1)\n",
    "train_df['entity_counters'].value_counts()"
   ]
  },
  {
   "cell_type": "code",
   "execution_count": null,
   "metadata": {},
   "outputs": [],
   "source": [
    "train_df = train_df[train_df['entity_counters'] != 0]\n",
    "test_df = test_df[test_df['entity_counters'] != 0]"
   ]
  },
  {
   "cell_type": "code",
   "execution_count": null,
   "metadata": {},
   "outputs": [],
   "source": [
    "train_df['entity_counters'] = train_df.apply(lambda x: x['Sentence'].count(f\"{x['Entity']}\"), axis = 1)\n",
    "train_df['entity_counters'].value_counts()"
   ]
  },
  {
   "cell_type": "code",
   "execution_count": null,
   "metadata": {},
   "outputs": [],
   "source": [
    "import re\n",
    "from tqdm.notebook import tqdm\n",
    "\n",
    "tqdm.pandas()\n",
    "train_df['entity_counters'] = train_df.progress_apply(lambda x: len(re.findall(r\"\\b\" + re.escape(x['Entity']) + r\"\\b\", x['Sentence'])), axis = 1)\n",
    "train_df['entity_counters'].value_counts()"
   ]
  },
  {
   "cell_type": "code",
   "execution_count": null,
   "metadata": {},
   "outputs": [],
   "source": [
    "tqdm.pandas()\n",
    "test_df['entity_counters'] = test_df.progress_apply(lambda x: len(re.findall(r\"\\b\" + re.escape(x['Entity']) + r\"\\b\", x['Sentence'])), axis = 1)\n",
    "test_df['entity_counters'].value_counts()"
   ]
  },
  {
   "cell_type": "markdown",
   "metadata": {},
   "source": [
    "Still some issues remaining. Will have to manually clean them."
   ]
  },
  {
   "cell_type": "code",
   "execution_count": null,
   "metadata": {},
   "outputs": [],
   "source": [
    "train_df = train_df[train_df['entity_counters'] != 0]\n",
    "test_df = test_df[test_df['entity_counters'] != 0]"
   ]
  },
  {
   "cell_type": "code",
   "execution_count": null,
   "metadata": {},
   "outputs": [],
   "source": [
    "train_df.to_csv('../data/processed_train.csv')\n",
    "test_df.to_csv('../data/processed_test.csv')"
   ]
  }
 ],
 "metadata": {
  "interpreter": {
   "hash": "5f3a9e307020fff06c9d718ee1c49caa3fe3c690079ecb1ba52008f1a0a4e25d"
  },
  "kernelspec": {
   "display_name": "Python 3.8.10 64-bit ('venv': venv)",
   "name": "python3"
  },
  "language_info": {
   "codemirror_mode": {
    "name": "ipython",
    "version": 3
   },
   "file_extension": ".py",
   "mimetype": "text/x-python",
   "name": "python",
   "nbconvert_exporter": "python",
   "pygments_lexer": "ipython3",
   "version": "3.8.10"
  },
  "orig_nbformat": 4
 },
 "nbformat": 4,
 "nbformat_minor": 2
}
